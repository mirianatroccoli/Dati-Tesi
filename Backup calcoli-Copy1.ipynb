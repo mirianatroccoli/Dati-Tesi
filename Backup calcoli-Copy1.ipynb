{
 "cells": [
  {
   "cell_type": "code",
   "execution_count": 19,
   "id": "ca8e0caf",
   "metadata": {},
   "outputs": [],
   "source": [
    "import pandas as pd\n",
    "import numpy as np\n",
    "from sklearn.metrics import confusion_matrix, accuracy_score, precision_score, recall_score, f1_score\n",
    "import matplotlib.pyplot as plt"
   ]
  },
  {
   "cell_type": "code",
   "execution_count": 20,
   "id": "f983ac95",
   "metadata": {
    "scrolled": true
   },
   "outputs": [],
   "source": [
    "file_path = 'excel di backup(5).csv'\n",
    "df = pd.read_csv(file_path)"
   ]
  },
  {
   "cell_type": "code",
   "execution_count": 40,
   "id": "1347690b",
   "metadata": {},
   "outputs": [
    {
     "name": "stdout",
     "output_type": "stream",
     "text": [
      "Matrice di confusione IA:\n",
      "       TRAUM  NEOPL  AFTA\n",
      "TRAUM     20      0    20\n",
      "NEOPL     10     20    10\n",
      "AFTA      10      0    10\n"
     ]
    }
   ],
   "source": [
    "ground_truth = df['Diagnosi'].astype(str)\n",
    "pred_IA = df['Diagnosi AI'].astype(str)\n",
    "labels = ['TRAUM', 'NEOPL', 'AFTA'] \n",
    "cm_IA = confusion_matrix(ground_truth, pred_IA, labels=labels)\n",
    "df_cm_IA = pd.DataFrame(cm_IA, index=labels, columns=labels)\n",
    "print(\"Matrice di confusione IA:\")\n",
    "print(df_cm_IA)"
   ]
  },
  {
   "cell_type": "code",
   "execution_count": 42,
   "id": "89ab5d06",
   "metadata": {},
   "outputs": [],
   "source": [
    "ground_truth = df['Diagnosi'].astype(str)\n",
    "pred_user_pre_IA = df['Diagnosi Ut'].astype(str)"
   ]
  },
  {
   "cell_type": "code",
   "execution_count": 43,
   "id": "ea3b8b38",
   "metadata": {},
   "outputs": [],
   "source": [
    "labels = ['TRAUM', 'NEOPL', 'AFTA'] \n",
    "cm_pre_IA = confusion_matrix(ground_truth, pred_user_pre_IA, labels=labels)"
   ]
  },
  {
   "cell_type": "code",
   "execution_count": 44,
   "id": "acf09ff4",
   "metadata": {},
   "outputs": [
    {
     "name": "stdout",
     "output_type": "stream",
     "text": [
      "Matrice di confusione pre-IA:\n",
      "       TRAUM  NEOPL  AFTA\n",
      "TRAUM     22     10     8\n",
      "NEOPL      4     34     2\n",
      "AFTA       1      0    19\n"
     ]
    }
   ],
   "source": [
    "df_cm_pre_IA = pd.DataFrame(cm_pre_IA, index=labels, columns=labels)\n",
    "print(\"Matrice di confusione pre-IA:\")\n",
    "print(df_cm_pre_IA)"
   ]
  },
  {
   "cell_type": "code",
   "execution_count": 45,
   "id": "15be0761",
   "metadata": {},
   "outputs": [],
   "source": [
    "ground_truth = df['Diagnosi'].astype(str)\n",
    "pred_user_post_IA = df['Diagnosi dopo rivalutazione?'].astype(str)"
   ]
  },
  {
   "cell_type": "code",
   "execution_count": 46,
   "id": "7d4856b3",
   "metadata": {},
   "outputs": [],
   "source": [
    "cm_post_IA = confusion_matrix(ground_truth, pred_user_post_IA, labels=labels)"
   ]
  },
  {
   "cell_type": "code",
   "execution_count": 49,
   "id": "8dc7e746",
   "metadata": {},
   "outputs": [
    {
     "name": "stdout",
     "output_type": "stream",
     "text": [
      "Matrice di confusione post-IA (senza divisione interfacce):\n",
      "       TRAUM  NEOPL  AFTA\n",
      "TRAUM     23      6    11\n",
      "NEOPL      1     37     2\n",
      "AFTA       1      0    18\n"
     ]
    }
   ],
   "source": [
    "df_cm_post_IA = pd.DataFrame(cm_post_IA, index=labels, columns=labels)\n",
    "print(\"Matrice di confusione post-IA (senza divisione interfacce):\")\n",
    "print(df_cm_post_IA)"
   ]
  },
  {
   "cell_type": "code",
   "execution_count": 51,
   "id": "e61a1645",
   "metadata": {},
   "outputs": [],
   "source": [
    "df['Interfaccia'] = df['Interfaccia'].astype(str)\n",
    "\n",
    "df['Diagnosi'] = df['Diagnosi'].astype(str)\n",
    "df['Diagnosi dopo rivalutazione?'] = df['Diagnosi dopo rivalutazione?'].astype(str)\n",
    "\n",
    "#filtraggio interfacce\n",
    "data_interface_1 = df[df['Interfaccia'] == '1']\n",
    "data_interface_2 = df[df['Interfaccia'] == '2']\n",
    "\n",
    "\n",
    "ground_truth_interface_1 = data_interface_1['Diagnosi']\n",
    "pred_user_post_IA_interface_1 = data_interface_1['Diagnosi dopo rivalutazione?']\n",
    "\n",
    "ground_truth_interface_2 = data_interface_2['Diagnosi']\n",
    "pred_user_post_IA_interface_2 = data_interface_2['Diagnosi dopo rivalutazione?']\n",
    "\n",
    "\n",
    "labels = ['TRAUM', 'NEOPL', 'AFTA'] \n",
    "cm_interface_1 = confusion_matrix(ground_truth_interface_1, pred_user_post_IA_interface_1, labels=labels)\n",
    "cm_interface_2 = confusion_matrix(ground_truth_interface_2, pred_user_post_IA_interface_2, labels=labels)\n",
    "\n"
   ]
  },
  {
   "cell_type": "code",
   "execution_count": 52,
   "id": "5766adc5",
   "metadata": {},
   "outputs": [
    {
     "name": "stdout",
     "output_type": "stream",
     "text": [
      "Matrice di confusione post-IA - Prima interfaccia:\n",
      "       TRAUM  NEOPL  AFTA\n",
      "TRAUM      8      0     8\n",
      "NEOPL      1     22     0\n",
      "AFTA       0      0    10\n"
     ]
    }
   ],
   "source": [
    "df_cm_post_IA_1 = pd.DataFrame(cm_interface_1, index=labels, columns=labels)\n",
    "print(\"Matrice di confusione post-IA - Prima interfaccia:\")\n",
    "print(df_cm_post_IA_1)"
   ]
  },
  {
   "cell_type": "code",
   "execution_count": 53,
   "id": "fb4054d2",
   "metadata": {},
   "outputs": [
    {
     "name": "stdout",
     "output_type": "stream",
     "text": [
      "Matrice di confusione post-IA - Seconda interfaccia:\n",
      "       TRAUM  NEOPL  AFTA\n",
      "TRAUM     15      6     3\n",
      "NEOPL      0     15     2\n",
      "AFTA       1      0     8\n"
     ]
    }
   ],
   "source": [
    "df_cm_post_IA_2 = pd.DataFrame(cm_interface_2, index=labels, columns=labels)\n",
    "print(\"Matrice di confusione post-IA - Seconda interfaccia:\")\n",
    "print(df_cm_post_IA_2)"
   ]
  },
  {
   "cell_type": "code",
   "execution_count": 56,
   "id": "d163e817",
   "metadata": {},
   "outputs": [
    {
     "name": "stdout",
     "output_type": "stream",
     "text": [
      "Accuracy AI: 0.50\n",
      "Accuracy Utente: 0.75\n",
      "Accuracy Utente Dopo IA: 0.78\n",
      "Accuracy Utente Dopo IA - Interfaccia 1: 0.80\n",
      "Accuracy Utente Dopo IA - Interfaccia 2: 0.76\n",
      "Precision AI: 0.58\n",
      "Precision Utente: 0.75\n",
      "Precision Utente dopo IA: 0.59\n",
      "Precision Utente Dopo IA - Interfaccia 1: 0.61\n",
      "Precision Utente Dopo IA - Interfaccia 2: 0.76\n",
      "Recall AI: 0.50\n",
      "Recall Utente: 0.78\n",
      "Recall Utente dopo IA: 0.60\n",
      "Recall Utente Dopo IA - Interfaccia 1: 0.59\n",
      "Recall Utente Dopo IA - Interfaccia 2: 0.80\n",
      "f1 AI: 0.50\n",
      "f1 Utente: 0.75\n",
      "f1 Utente dopo IA: 0.58\n",
      "f1 Utente Dopo IA - Interfaccia 1: 0.58\n",
      "f1 Utente Dopo IA - Interfaccia 2: 0.76\n"
     ]
    },
    {
     "name": "stderr",
     "output_type": "stream",
     "text": [
      "C:\\Users\\Miriana\\anaconda3\\lib\\site-packages\\sklearn\\metrics\\_classification.py:1318: UndefinedMetricWarning: Recall is ill-defined and being set to 0.0 in labels with no true samples. Use `zero_division` parameter to control this behavior.\n",
      "  _warn_prf(average, modifier, msg_start, len(result))\n",
      "C:\\Users\\Miriana\\anaconda3\\lib\\site-packages\\sklearn\\metrics\\_classification.py:1318: UndefinedMetricWarning: Recall is ill-defined and being set to 0.0 in labels with no true samples. Use `zero_division` parameter to control this behavior.\n",
      "  _warn_prf(average, modifier, msg_start, len(result))\n"
     ]
    }
   ],
   "source": [
    "# Calculate metrics\n",
    "\n",
    "df['Diagnosi'] = df['Diagnosi'].astype(str)\n",
    "df['Diagnosi Ut'] = df['Diagnosi Ut'].astype(str)\n",
    "df['Diagnosi AI'] = df['Diagnosi AI'].astype(str)\n",
    "df['Diagnosi dopo rivalutazione?'] = df['Diagnosi dopo rivalutazione?'].astype(str)\n",
    "df['Interfaccia'] = df['Interfaccia'].astype(str)\n",
    "\n",
    "#Accuratezza AI\n",
    "accuracy_AI = accuracy_score(df['Diagnosi'], df['Diagnosi AI'])\n",
    "#Accuratezza Utente\n",
    "accuracy_user = accuracy_score(df['Diagnosi'], df['Diagnosi Ut'])\n",
    "#Accuratezza Utente dopo IA\n",
    "accuracy_user_post_IA = accuracy_score(df['Diagnosi'], df['Diagnosi dopo rivalutazione?'])\n",
    "\n",
    "\n",
    "df_int_1 = df[df['Interfaccia'] == '1']\n",
    "df_int_2 = df[df['Interfaccia'] == '2']\n",
    "\n",
    "#Accuratezza Utente dopo IA con prima interfaccia\n",
    "accuracy_user_post_IA_int_1 = accuracy_score(df_int_1['Diagnosi'], df_int_1['Diagnosi dopo rivalutazione?'])\n",
    "\n",
    "#Accuratezza Utente dopo IA con seconda interfaccia\n",
    "accuracy_user_post_IA_int_2 = accuracy_score(df_int_2['Diagnosi'], df_int_2['Diagnosi dopo rivalutazione?'])\n",
    "\n",
    "\n",
    "print(f\"Accuracy AI: {accuracy_AI:.2f}\")\n",
    "print(f\"Accuracy Utente: {accuracy_user:.2f}\")\n",
    "print(f\"Accuracy Utente Dopo IA: {accuracy_user_post_IA:.2f}\")\n",
    "print(f\"Accuracy Utente Dopo IA - Interfaccia 1: {accuracy_user_post_IA_int_1:.2f}\")\n",
    "print(f\"Accuracy Utente Dopo IA - Interfaccia 2: {accuracy_user_post_IA_int_2:.2f}\")\n",
    "\n",
    "\n",
    "#Precision AI\n",
    "precision_AI = precision_score(df['Diagnosi'], df['Diagnosi AI'], average='macro')\n",
    "\n",
    "#Precision utente\n",
    "precision_user = precision_score(df['Diagnosi'], df['Diagnosi Ut'], average='macro')\n",
    "\n",
    "#Precision Utente dopo IA\n",
    "precision_user_post_AI = precision_score(df['Diagnosi'], df['Diagnosi dopo rivalutazione?'], average='macro')\n",
    "\n",
    "#Precision Utente dopo IA con prima interfaccia\n",
    "precision_user_post_IA_int_1 = precision_score(df_int_1['Diagnosi'], df_int_1['Diagnosi dopo rivalutazione?'], average='macro')\n",
    "\n",
    "#Precision Utente dopo IA con seconda interfaccia\n",
    "precision_user_post_IA_int_2 = precision_score(df_int_2['Diagnosi'], df_int_2['Diagnosi dopo rivalutazione?'], average='macro')\n",
    "\n",
    "print(f\"Precision AI: {precision_AI:.2f}\")\n",
    "print(f\"Precision Utente: {precision_user:.2f}\")\n",
    "print(f\"Precision Utente dopo IA: {precision_user_post_AI:.2f}\")\n",
    "print(f\"Precision Utente Dopo IA - Interfaccia 1: {precision_user_post_IA_int_1:.2f}\")\n",
    "print(f\"Precision Utente Dopo IA - Interfaccia 2: {precision_user_post_IA_int_2:.2f}\")\n",
    "\n",
    "\n",
    "#Recall AI\n",
    "recall_AI = recall_score(df['Diagnosi'], df['Diagnosi AI'], average='macro')\n",
    "\n",
    "#Recall utente\n",
    "recall_user = recall_score(df['Diagnosi'], df['Diagnosi Ut'], average='macro')\n",
    "\n",
    "#Recall Utente dopo IA\n",
    "recall_user_post_AI = recall_score(df['Diagnosi'], df['Diagnosi dopo rivalutazione?'], average='macro')\n",
    "\n",
    "#Recall Utente dopo IA con prima interfaccia\n",
    "recall_user_post_IA_int_1 = recall_score(df_int_1['Diagnosi'], df_int_1['Diagnosi dopo rivalutazione?'], average='macro')\n",
    "\n",
    "#Recall Utente dopo IA con seconda interfaccia\n",
    "recall_user_post_IA_int_2 = recall_score(df_int_2['Diagnosi'], df_int_2['Diagnosi dopo rivalutazione?'], average='macro')\n",
    "\n",
    "print(f\"Recall AI: {recall_AI:.2f}\")\n",
    "print(f\"Recall Utente: {recall_user:.2f}\")\n",
    "print(f\"Recall Utente dopo IA: {recall_user_post_AI:.2f}\")\n",
    "print(f\"Recall Utente Dopo IA - Interfaccia 1: {recall_user_post_IA_int_1:.2f}\")\n",
    "print(f\"Recall Utente Dopo IA - Interfaccia 2: {recall_user_post_IA_int_2:.2f}\")\n",
    "\n",
    "\n",
    "#f1 AI\n",
    "f1_AI = f1_score(df['Diagnosi'], df['Diagnosi AI'], average='macro')\n",
    "\n",
    "#f1 utente\n",
    "f1_user = f1_score(df['Diagnosi'], df['Diagnosi Ut'], average='macro')\n",
    "\n",
    "#f1 Utente dopo IA\n",
    "f1_user_post_AI = f1_score(df['Diagnosi'], df['Diagnosi dopo rivalutazione?'], average='macro')\n",
    "\n",
    "#f1 Utente dopo IA con prima interfaccia\n",
    "f1_user_post_IA_int_1 = f1_score(df_int_1['Diagnosi'], df_int_1['Diagnosi dopo rivalutazione?'], average='macro')\n",
    "\n",
    "#f1 Utente dopo IA con seconda interfaccia\n",
    "f1_user_post_IA_int_2 = f1_score(df_int_2['Diagnosi'], df_int_2['Diagnosi dopo rivalutazione?'], average='macro')\n",
    "\n",
    "print(f\"f1 AI: {f1_AI:.2f}\")\n",
    "print(f\"f1 Utente: {f1_user:.2f}\")\n",
    "print(f\"f1 Utente dopo IA: {f1_user_post_AI:.2f}\")\n",
    "print(f\"f1 Utente Dopo IA - Interfaccia 1: {f1_user_post_IA_int_1:.2f}\")\n",
    "print(f\"f1 Utente Dopo IA - Interfaccia 2: {f1_user_post_IA_int_2:.2f}\")"
   ]
  },
  {
   "cell_type": "code",
   "execution_count": 55,
   "id": "dd026ebd",
   "metadata": {},
   "outputs": [
    {
     "name": "stdout",
     "output_type": "stream",
     "text": [
      "              User Accuracy  User Accuracy Post IA      Esperienza\n",
      "Partecipante                                                      \n",
      "Amadasi                 0.9                    0.8   Oltre 10 anni\n",
      "Figliè                  0.8                    0.8  Meno di 1 anno\n",
      "Gianninoni              0.7                    0.8        Studente\n",
      "Gragnoli                0.6                    0.8        1-5 anni\n",
      "Grosso                  0.6                    0.7        Studente\n",
      "Palomba A.              0.8                    0.9  Meno di 1 anno\n",
      "Palomba G.              0.9                    0.8        1-5 anni\n",
      "Petrigliano             0.9                    0.9   Oltre 10 anni\n",
      "Solinas                 0.6                    0.6        Studente\n",
      "Turchi                  0.7                    0.7   Oltre 10 anni\n"
     ]
    }
   ],
   "source": [
    "partecipanti = df.groupby('Partecipante')\n",
    "\n",
    "#accuratezza pre-IA di ogni partecipante\n",
    "user_accuracies = partecipanti.apply(lambda x: accuracy_score(x['Diagnosi'], x['Diagnosi Ut']))\n",
    "#accuratezza post-IA di ogni partecipante\n",
    "user_accuracies_post_IA = partecipanti.apply(lambda x: accuracy_score(x['Diagnosi'], x['Diagnosi dopo rivalutazione?']))\n",
    "\n",
    "accuracy_df = pd.DataFrame({\n",
    "    'User Accuracy': user_accuracies,\n",
    "    'User Accuracy Post IA': user_accuracies_post_IA\n",
    "    \n",
    "})\n",
    "\n",
    "accuracy_df['Esperienza'] = df.groupby('Partecipante')['Esperienza'].first()\n",
    "\n",
    "print(accuracy_df)\n"
   ]
  },
  {
   "cell_type": "code",
   "execution_count": 57,
   "id": "be485336",
   "metadata": {},
   "outputs": [
    {
     "data": {
      "image/png": "[encoded data removed]",
      "text/plain": [
       "<Figure size 800x500 with 1 Axes>"
      ]
     },
     "metadata": {},
     "output_type": "display_data"
    }
   ],
   "source": [
    "aggregated_df = accuracy_df.groupby('Esperienza').agg({'User Accuracy': 'mean'}).reset_index()\n",
    "\n",
    "order = ['Studente', 'Meno di 1 anno', '1-5 anni', 'Oltre 10 anni']\n",
    "\n",
    "#riordino il df in base alle etichette\n",
    "aggregated_df = aggregated_df.set_index('Esperienza').loc[order].reset_index()\n",
    "\n",
    "\n",
    "plt.figure(figsize=(8, 5))  \n",
    "x = aggregated_df['Esperienza']\n",
    "y = aggregated_df['User Accuracy']\n",
    "\n",
    "#larghezza barre\n",
    "bar_width = 0.6\n",
    "\n",
    "plt.bar(x, y, width=bar_width, color='skyblue', edgecolor='black')\n",
    "\n",
    "plt.xlabel('Esperienza Utente')\n",
    "plt.ylabel('Accuratezza Utente')\n",
    "plt.title('Accuratezza Utente in relazione all\\'Esperienza')\n",
    "plt.xticks(x, rotation=45)  \n",
    "\n",
    "plt.tight_layout()\n",
    "plt.show()"
   ]
  },
  {
   "cell_type": "code",
   "execution_count": 58,
   "id": "38acbe2d",
   "metadata": {},
   "outputs": [
    {
     "data": {
      "image/png": "[encoded data removed]",
      "text/plain": [
       "<Figure size 800x500 with 1 Axes>"
      ]
     },
     "metadata": {},
     "output_type": "display_data"
    }
   ],
   "source": [
    "aggregated_df = accuracy_df.groupby('Esperienza').agg({'User Accuracy Post IA': 'mean'}).reset_index()\n",
    "\n",
    "order = ['Studente', 'Meno di 1 anno', '1-5 anni', 'Oltre 10 anni']\n",
    "\n",
    "#riordino il df in base alle etichette\n",
    "aggregated_df = aggregated_df.set_index('Esperienza').loc[order].reset_index()\n",
    "\n",
    "plt.figure(figsize=(8, 5)) \n",
    "x = aggregated_df['Esperienza']\n",
    "y = aggregated_df['User Accuracy Post IA']\n",
    "\n",
    "#larghezza barre\n",
    "bar_width = 0.6\n",
    "\n",
    "plt.bar(x, y, width=bar_width, color='skyblue', edgecolor='black')\n",
    "plt.xlabel('Esperienza Utente')\n",
    "plt.ylabel('Accuratezza Utente')\n",
    "plt.title('Accuratezza Utente post IA in relazione all\\'Esperienza')\n",
    "plt.xticks(x, rotation=45) \n",
    "\n",
    "plt.tight_layout()\n",
    "plt.show()"
   ]
  },
  {
   "cell_type": "code",
   "execution_count": null,
   "id": "7deb9710",
   "metadata": {},
   "outputs": [],
   "source": []
  },
  {
   "cell_type": "code",
   "execution_count": null,
   "id": "73e10d70",
   "metadata": {},
   "outputs": [],
   "source": []
  }
 ],
 "metadata": {
  "kernelspec": {
   "display_name": "Python 3 (ipykernel)",
   "language": "python",
   "name": "python3"
  },
  "language_info": {
   "codemirror_mode": {
    "name": "ipython",
    "version": 3
   },
   "file_extension": ".py",
   "mimetype": "text/x-python",
   "name": "python",
   "nbconvert_exporter": "python",
   "pygments_lexer": "ipython3",
   "version": "3.9.13"
  }
 },
 "nbformat": 4,
 "nbformat_minor": 5
}
