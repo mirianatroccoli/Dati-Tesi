{
 "cells": [
  {
   "cell_type": "code",
   "execution_count": 57,
   "id": "ca8e0caf",
   "metadata": {},
   "outputs": [],
   "source": [
    "import pandas as pd\n",
    "import numpy as np\n",
    "from sklearn.metrics import confusion_matrix, accuracy_score, precision_score, recall_score, f1_score\n"
   ]
  },
  {
   "cell_type": "code",
   "execution_count": 58,
   "id": "f983ac95",
   "metadata": {
    "scrolled": true
   },
   "outputs": [
    {
     "name": "stderr",
     "output_type": "stream",
     "text": [
      "C:\\Users\\Miriana\\anaconda3\\lib\\site-packages\\openpyxl\\worksheet\\_read_only.py:79: UserWarning: Data Validation extension is not supported and will be removed\n",
      "  for idx, row in parser.parse():\n"
     ]
    }
   ],
   "source": [
    "file_path = 'excel di backup.xlsx'\n",
    "df = pd.read_excel(file_path)"
   ]
  },
  {
   "cell_type": "code",
   "execution_count": 61,
   "id": "1347690b",
   "metadata": {},
   "outputs": [
    {
     "name": "stdout",
     "output_type": "stream",
     "text": [
      "Matrice di confusione IA:\n",
      "       TRAUM  NEOPL  AFTA\n",
      "TRAUM     16      0    16\n",
      "NEOPL      8     16     8\n",
      "AFTA       8      0     8\n"
     ]
    }
   ],
   "source": [
    "y_true_pre_IA = df['Diagnosi'].astype(str)\n",
    "y_pred_IA = df['Diagnosi AI'].astype(str)\n",
    "labels = ['TRAUM', 'NEOPL', 'AFTA'] \n",
    "cm_IA = confusion_matrix(y_true_pre_IA, y_pred_IA, labels=labels)\n",
    "df_cm_IA = pd.DataFrame(cm_IA, index=labels, columns=labels)\n",
    "print(\"Matrice di confusione IA:\")\n",
    "print(df_cm_IA)"
   ]
  },
  {
   "cell_type": "code",
   "execution_count": 62,
   "id": "89ab5d06",
   "metadata": {},
   "outputs": [],
   "source": [
    "y_true_pre_IA = df['Diagnosi'].astype(str)\n",
    "y_pred_pre_IA = df['Diagnosi Ut'].astype(str)"
   ]
  },
  {
   "cell_type": "code",
   "execution_count": 63,
   "id": "ea3b8b38",
   "metadata": {},
   "outputs": [],
   "source": [
    "labels = ['TRAUM', 'NEOPL', 'AFTA'] \n",
    "cm_pre_IA = confusion_matrix(y_true_pre_IA, y_pred_pre_IA, labels=labels)"
   ]
  },
  {
   "cell_type": "code",
   "execution_count": 64,
   "id": "acf09ff4",
   "metadata": {},
   "outputs": [
    {
     "name": "stdout",
     "output_type": "stream",
     "text": [
      "Matrice di confusione pre-IA:\n",
      "       TRAUM  NEOPL  AFTA\n",
      "TRAUM     17      8     7\n",
      "NEOPL      4     26     2\n",
      "AFTA       1      0    15\n"
     ]
    }
   ],
   "source": [
    "df_cm_pre_IA = pd.DataFrame(cm_pre_IA, index=labels, columns=labels)\n",
    "print(\"Matrice di confusione pre-IA:\")\n",
    "print(df_cm_pre_IA)"
   ]
  },
  {
   "cell_type": "code",
   "execution_count": 65,
   "id": "15be0761",
   "metadata": {},
   "outputs": [],
   "source": [
    "y_true_post_IA = df['Diagnosi'].astype(str)\n",
    "y_pred_post_IA = df['Diagnosi dopo rivalutazione?'].astype(str)"
   ]
  },
  {
   "cell_type": "code",
   "execution_count": 66,
   "id": "7d4856b3",
   "metadata": {},
   "outputs": [],
   "source": [
    "cm_post_IA = confusion_matrix(y_true_post_IA, y_pred_post_IA, labels=labels)"
   ]
  },
  {
   "cell_type": "code",
   "execution_count": 67,
   "id": "8dc7e746",
   "metadata": {},
   "outputs": [
    {
     "name": "stdout",
     "output_type": "stream",
     "text": [
      "Matrice di confusione post-IA (senza divisione interfacce):\n",
      "       TRAUM  NEOPL  AFTA\n",
      "TRAUM     18      4    10\n",
      "NEOPL      1     29     2\n",
      "AFTA       1      0    14\n"
     ]
    }
   ],
   "source": [
    "df_cm_post_IA = pd.DataFrame(cm_post_IA, index=labels, columns=labels)\n",
    "print(\"Matrice di confusione post-IA (senza divisione interfacce):\")\n",
    "print(df_cm_post_IA)"
   ]
  },
  {
   "cell_type": "code",
   "execution_count": 68,
   "id": "e61a1645",
   "metadata": {},
   "outputs": [],
   "source": [
    "df['Interfaccia'] = df['Interfaccia'].astype(str)\n",
    "\n",
    "df['Diagnosi'] = df['Diagnosi'].astype(str)\n",
    "df['Diagnosi dopo rivalutazione?'] = df['Diagnosi dopo rivalutazione?'].astype(str)\n",
    "\n",
    "#filtraggio interfacce\n",
    "data_interface_1 = df[df['Interfaccia'] == '1']\n",
    "data_interface_2 = df[df['Interfaccia'] == '2']\n",
    "\n",
    "\n",
    "y_true_interface_1 = data_interface_1['Diagnosi']\n",
    "y_pred_interface_1 = data_interface_1['Diagnosi dopo rivalutazione?']\n",
    "\n",
    "y_true_interface_2 = data_interface_2['Diagnosi']\n",
    "y_pred_interface_2 = data_interface_2['Diagnosi dopo rivalutazione?']\n",
    "\n",
    "\n",
    "labels = ['TRAUM', 'NEOPL', 'AFTA'] \n",
    "cm_interface_1 = confusion_matrix(y_true_interface_1, y_pred_interface_1, labels=labels)\n",
    "cm_interface_2 = confusion_matrix(y_true_interface_2, y_pred_interface_2, labels=labels)\n",
    "\n"
   ]
  },
  {
   "cell_type": "code",
   "execution_count": 69,
   "id": "5766adc5",
   "metadata": {},
   "outputs": [
    {
     "name": "stdout",
     "output_type": "stream",
     "text": [
      "Matrice di confusione post-IA - Prima interfaccia:\n",
      "       TRAUM  NEOPL  AFTA\n",
      "TRAUM      6      0     8\n",
      "NEOPL      1     16     0\n",
      "AFTA       0      0     8\n"
     ]
    }
   ],
   "source": [
    "df_cm_post_IA_1 = pd.DataFrame(cm_interface_1, index=labels, columns=labels)\n",
    "print(\"Matrice di confusione post-IA - Prima interfaccia:\")\n",
    "print(df_cm_post_IA_1)"
   ]
  },
  {
   "cell_type": "code",
   "execution_count": 70,
   "id": "fb4054d2",
   "metadata": {},
   "outputs": [
    {
     "name": "stdout",
     "output_type": "stream",
     "text": [
      "Matrice di confusione post-IA - Seconda interfaccia:\n",
      "       TRAUM  NEOPL  AFTA\n",
      "TRAUM     12      4     2\n",
      "NEOPL      0     13     2\n",
      "AFTA       1      0     6\n"
     ]
    }
   ],
   "source": [
    "df_cm_post_IA_2 = pd.DataFrame(cm_interface_2, index=labels, columns=labels)\n",
    "print(\"Matrice di confusione post-IA - Seconda interfaccia:\")\n",
    "print(df_cm_post_IA_2)"
   ]
  },
  {
   "cell_type": "code",
   "execution_count": 106,
   "id": "d163e817",
   "metadata": {},
   "outputs": [
    {
     "name": "stdout",
     "output_type": "stream",
     "text": [
      "Accuracy AI: 0.56\n",
      "Accuracy Utente: 0.76\n",
      "Accuracy Utente Dopo IA: 0.79\n",
      "Accuracy Utente Dopo IA - Interfaccia 1: 0.78\n",
      "Accuracy Utente Dopo IA - Interfaccia 2: 0.80\n",
      "Precision AI: 0.69\n",
      "Precision Utente: 0.79\n",
      "Precision Utente dopo IA: 0.81\n",
      "Precision Utente Dopo IA - Interfaccia 1: 0.80\n",
      "Precision Utente Dopo IA - Interfaccia 2: 0.82\n",
      "Recall AI: 0.62\n",
      "Recall Utente: 0.82\n",
      "Recall Utente dopo IA: 0.84\n",
      "Recall Utente Dopo IA - Interfaccia 1: 0.81\n",
      "Recall Utente Dopo IA - Interfaccia 2: 0.85\n",
      "f1 AI: 0.62\n",
      "f1 Utente: 0.79\n",
      "f1 Utente dopo IA: 0.80\n",
      "f1 Utente Dopo IA - Interfaccia 1: 0.77\n",
      "f1 Utente Dopo IA - Interfaccia 2: 0.82\n"
     ]
    }
   ],
   "source": [
    "# Calculate metrics\n",
    "\n",
    "df['Diagnosi'] = df['Diagnosi'].astype(str)\n",
    "df['Diagnosi Ut'] = df['Diagnosi Ut'].astype(str)\n",
    "df['Diagnosi AI'] = df['Diagnosi AI'].astype(str)\n",
    "df['Diagnosi dopo rivalutazione?'] = df['Diagnosi dopo rivalutazione?'].astype(str)\n",
    "df['Interfaccia'] = df['Interfaccia'].astype(str)\n",
    "\n",
    "#Accuratezza AI\n",
    "accuracy_AI = accuracy_score(df['Diagnosi'], df['Diagnosi AI'])\n",
    "#Accuratezza Utente\n",
    "accuracy_user = accuracy_score(df['Diagnosi'], df['Diagnosi Ut'])\n",
    "#Accuratezza Utente dopo IA\n",
    "accuracy_user_post_IA = accuracy_score(df['Diagnosi'], df['Diagnosi dopo rivalutazione?'])\n",
    "\n",
    "\n",
    "df_int_1 = df[df['Interfaccia'] == '1']\n",
    "df_int_2 = df[df['Interfaccia'] == '2']\n",
    "\n",
    "#Accuratezza Utente dopo IA con prima interfaccia\n",
    "accuracy_user_post_IA_int_1 = accuracy_score(df_int_1['Diagnosi'], df_int_1['Diagnosi dopo rivalutazione?'])\n",
    "\n",
    "#Accuratezza Utente dopo IA con seconda interfaccia\n",
    "accuracy_user_post_IA_int_2 = accuracy_score(df_int_2['Diagnosi'], df_int_2['Diagnosi dopo rivalutazione?'])\n",
    "\n",
    "\n",
    "print(f\"Accuracy AI: {accuracy_AI:.2f}\")\n",
    "print(f\"Accuracy Utente: {accuracy_user:.2f}\")\n",
    "print(f\"Accuracy Utente Dopo IA: {accuracy_user_post_IA:.2f}\")\n",
    "print(f\"Accuracy Utente Dopo IA - Interfaccia 1: {accuracy_user_post_IA_int_1:.2f}\")\n",
    "print(f\"Accuracy Utente Dopo IA - Interfaccia 2: {accuracy_user_post_IA_int_2:.2f}\")\n",
    "\n",
    "\n",
    "#Precision AI\n",
    "precision_AI = precision_score(df['Diagnosi'], df['Diagnosi AI'], average='macro')\n",
    "\n",
    "#Precision utente\n",
    "precision_user = precision_score(df['Diagnosi'], df['Diagnosi Ut'], average='macro')\n",
    "\n",
    "#Precision Utente dopo IA\n",
    "precision_user_post_AI = precision_score(df['Diagnosi'], df['Diagnosi dopo rivalutazione?'], average='macro')\n",
    "\n",
    "#Precision Utente dopo IA con prima interfaccia\n",
    "precision_user_post_IA_int_1 = precision_score(df_int_1['Diagnosi'], df_int_1['Diagnosi dopo rivalutazione?'], average='macro')\n",
    "\n",
    "#Precision Utente dopo IA con seconda interfaccia\n",
    "precision_user_post_IA_int_2 = precision_score(df_int_2['Diagnosi'], df_int_2['Diagnosi dopo rivalutazione?'], average='macro')\n",
    "\n",
    "print(f\"Precision AI: {precision_AI:.2f}\")\n",
    "print(f\"Precision Utente: {precision_user:.2f}\")\n",
    "print(f\"Precision Utente dopo IA: {precision_user_post_AI:.2f}\")\n",
    "print(f\"Precision Utente Dopo IA - Interfaccia 1: {precision_user_post_IA_int_1:.2f}\")\n",
    "print(f\"Precision Utente Dopo IA - Interfaccia 2: {precision_user_post_IA_int_2:.2f}\")\n",
    "\n",
    "\n",
    "#Recall AI\n",
    "recall_AI = recall_score(df['Diagnosi'], df['Diagnosi AI'], average='macro')\n",
    "\n",
    "#Recall utente\n",
    "recall_user = recall_score(df['Diagnosi'], df['Diagnosi Ut'], average='macro')\n",
    "\n",
    "#Recall Utente dopo IA\n",
    "recall_user_post_AI = recall_score(df['Diagnosi'], df['Diagnosi dopo rivalutazione?'], average='macro')\n",
    "\n",
    "#Recall Utente dopo IA con prima interfaccia\n",
    "recall_user_post_IA_int_1 = recall_score(df_int_1['Diagnosi'], df_int_1['Diagnosi dopo rivalutazione?'], average='macro')\n",
    "\n",
    "#Recall Utente dopo IA con seconda interfaccia\n",
    "recall_user_post_IA_int_2 = recall_score(df_int_2['Diagnosi'], df_int_2['Diagnosi dopo rivalutazione?'], average='macro')\n",
    "\n",
    "print(f\"Recall AI: {recall_AI:.2f}\")\n",
    "print(f\"Recall Utente: {recall_user:.2f}\")\n",
    "print(f\"Recall Utente dopo IA: {recall_user_post_AI:.2f}\")\n",
    "print(f\"Recall Utente Dopo IA - Interfaccia 1: {recall_user_post_IA_int_1:.2f}\")\n",
    "print(f\"Recall Utente Dopo IA - Interfaccia 2: {recall_user_post_IA_int_2:.2f}\")\n",
    "\n",
    "\n",
    "#f1 AI\n",
    "f1_AI = f1_score(df['Diagnosi'], df['Diagnosi AI'], average='macro')\n",
    "\n",
    "#f1 utente\n",
    "f1_user = f1_score(df['Diagnosi'], df['Diagnosi Ut'], average='macro')\n",
    "\n",
    "#f1 Utente dopo IA\n",
    "f1_user_post_AI = f1_score(df['Diagnosi'], df['Diagnosi dopo rivalutazione?'], average='macro')\n",
    "\n",
    "#f1 Utente dopo IA con prima interfaccia\n",
    "f1_user_post_IA_int_1 = f1_score(df_int_1['Diagnosi'], df_int_1['Diagnosi dopo rivalutazione?'], average='macro')\n",
    "\n",
    "#f1 Utente dopo IA con seconda interfaccia\n",
    "f1_user_post_IA_int_2 = f1_score(df_int_2['Diagnosi'], df_int_2['Diagnosi dopo rivalutazione?'], average='macro')\n",
    "\n",
    "print(f\"f1 AI: {f1_AI:.2f}\")\n",
    "print(f\"f1 Utente: {f1_user:.2f}\")\n",
    "print(f\"f1 Utente dopo IA: {f1_user_post_AI:.2f}\")\n",
    "print(f\"f1 Utente Dopo IA - Interfaccia 1: {f1_user_post_IA_int_1:.2f}\")\n",
    "print(f\"f1 Utente Dopo IA - Interfaccia 2: {f1_user_post_IA_int_2:.2f}\")\n",
    "\n",
    "\n",
    "\n",
    " "
   ]
  },
  {
   "cell_type": "code",
   "execution_count": null,
   "id": "dd026ebd",
   "metadata": {},
   "outputs": [],
   "source": []
  }
 ],
 "metadata": {
  "kernelspec": {
   "display_name": "Python 3 (ipykernel)",
   "language": "python",
   "name": "python3"
  },
  "language_info": {
   "codemirror_mode": {
    "name": "ipython",
    "version": 3
   },
   "file_extension": ".py",
   "mimetype": "text/x-python",
   "name": "python",
   "nbconvert_exporter": "python",
   "pygments_lexer": "ipython3",
   "version": "3.9.13"
  }
 },
 "nbformat": 4,
 "nbformat_minor": 5
}
